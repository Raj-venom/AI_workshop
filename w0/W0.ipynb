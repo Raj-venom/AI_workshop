{
  "nbformat": 4,
  "nbformat_minor": 0,
  "metadata": {
    "colab": {
      "provenance": [],
      "collapsed_sections": [
        "ZVeviYPKX8yq",
        "xeN7jFZOmm_6"
      ]
    },
    "kernelspec": {
      "name": "python3",
      "display_name": "Python 3"
    },
    "language_info": {
      "name": "python"
    }
  },
  "cells": [
    {
      "cell_type": "markdown",
      "source": [
        "# Exercise on Functions"
      ],
      "metadata": {
        "id": "ZVeviYPKX8yq"
      }
    },
    {
      "cell_type": "markdown",
      "source": [
        "## Task - 1:"
      ],
      "metadata": {
        "id": "LuQKznhWYApp"
      }
    },
    {
      "cell_type": "code",
      "execution_count": null,
      "metadata": {
        "colab": {
          "base_uri": "https://localhost:8080/"
        },
        "id": "47E5M0rBXiqx",
        "outputId": "e8e11966-5321-4611-ce8d-b0e74f7c51f0"
      },
      "outputs": [
        {
          "output_type": "stream",
          "name": "stdout",
          "text": [
            "Unit conversion\n",
            "Choose 1 for length, 2 for weight, 3 for volume: -8\n",
            "Enter the value: 9\n",
            "Invalid choice\n"
          ]
        }
      ],
      "source": [
        "def convert_length(value, from_unit):\n",
        "  if(from_unit == \"m\"):\n",
        "    return value * 3.28084\n",
        "  elif(from_unit == \"ft\"):\n",
        "    return value / 3.28084\n",
        "  else:\n",
        "    return \"Invalid Unit\"\n",
        "\n",
        "def convert_weight(value, from_unit):\n",
        "  if(from_unit == \"kg\"):\n",
        "    return value * 2.20462\n",
        "  elif(from_unit == \"lb\"):\n",
        "    return value / 2.20462\n",
        "  else:\n",
        "    return \"Invalid Unit\"\n",
        "\n",
        "def convert_volume(value, from_unit):\n",
        "  if(from_unit == \"L\"):\n",
        "    return value * 0.264172\n",
        "  elif(from_unit == \"gal\"):\n",
        "    return value / 0.264172\n",
        "  else:\n",
        "    return \"Invalid Unit\"\n",
        "\n",
        "\n",
        "def main():\n",
        "  print(\"Unit conversion\")\n",
        "\n",
        "  try:\n",
        "    conversion_type = int(input(\"Choose 1 for length, 2 for weight, 3 for volume: \"))\n",
        "    value = float(input(\"Enter the value: \"))\n",
        "\n",
        "    if(conversion_type == 1):\n",
        "      from_unit = input(\"Enter the unit to convert from (m/ft): \")\n",
        "      print(convert_length(value, from_unit))\n",
        "\n",
        "    elif(conversion_type == 2):\n",
        "      from_unit = input(\"Enter the unit to convert from (kg/lb): \")\n",
        "      print(convert_weight(value, from_unit))\n",
        "\n",
        "    elif(conversion_type == 3):\n",
        "      from_unit = input(\"Enter the unit to convert from (L/gal): \")\n",
        "      print(convert_volume(value, from_unit))\n",
        "\n",
        "    else:\n",
        "      print(\"Invalid choice\")\n",
        "\n",
        "\n",
        "  except ValueError as e:\n",
        "    print(f\"Error: {e}. Please enter a valid number and unit\")\n",
        "\n",
        "main()\n",
        "\n"
      ]
    },
    {
      "cell_type": "markdown",
      "source": [
        "## Task - 2:"
      ],
      "metadata": {
        "id": "fkrGIFcphQAC"
      }
    },
    {
      "cell_type": "code",
      "source": [
        "def sum_of_numbers(numbers):\n",
        "  \"\"\"\n",
        "    Calculate the sum of a list of numbers.\n",
        "    :param numbers: List of numeric values.\n",
        "    :return: Sum of the numbers.\n",
        "  \"\"\"\n",
        "  sum = 0\n",
        "  for num in numbers:\n",
        "    sum += num\n",
        "  return sum\n",
        "\n",
        "def average_of_numbers(numbers):\n",
        "  \"\"\"\n",
        "  Calculate the average of a list of numbers.\n",
        "  :param numbers: List of numeric values.\n",
        "  :return: Average of the numbers, or 0 if the list is empty.\n",
        "  \"\"\"\n",
        "  if len(numbers) == 0:\n",
        "    return 0\n",
        "  return sum_of_numbers(numbers) / len(numbers)\n",
        "\n",
        "def maximum_number(numbers):\n",
        "  \"\"\"\n",
        "  Find the maximum number in a list.\n",
        "  :param numbers: List of numeric values.\n",
        "  :return: Maximum value, or 0 if the list is empty.\n",
        "  \"\"\"\n",
        "  if len(numbers) == 0:\n",
        "    return 0\n",
        "  max = numbers[0]\n",
        "  for num in numbers:\n",
        "    if(num > max):\n",
        "      max = num\n",
        "  return max\n",
        "\n",
        "def minimum_number(numbers):\n",
        "  \"\"\"\n",
        "  Find the minimum number in a list.\n",
        "  :param numbers: List of numeric values.\n",
        "  :return: minimum value, or 0 if the list is empty.\n",
        "  \"\"\"\n",
        "  if len(numbers) == 0:\n",
        "    return 0\n",
        "  min = numbers[0]\n",
        "  for num in numbers:\n",
        "    if(num < min):\n",
        "      min = num\n",
        "  return min\n",
        "\n",
        "def main():\n",
        "  \"\"\"\n",
        "  Main function to take user input and perform selected operation.\n",
        "  \"\"\"\n",
        "  try:\n",
        "    number = [float(x) for x in input(\"Enter the numbers separated by space: \").split()]\n",
        "    operation_type = int(input(\"Choose 1 for sum, 2 for average, 3 for maximum, 4 for minimum: \"))\n",
        "\n",
        "    if(operation_type == 1):\n",
        "      print(f\"Sum of the numbers: {sum_of_numbers(number)}\")\n",
        "    elif(operation_type == 2):\n",
        "      print(f\"Average of the numbers: {average_of_numbers(number)}\")\n",
        "    elif(operation_type == 3):\n",
        "      print(f\"Maximum of the numbers: {maximum_number(number)}\")\n",
        "    elif(operation_type == 4):\n",
        "      print(f\"Minimum of the numbers: {minimum_number(number)}\")\n",
        "\n",
        "    else:\n",
        "      print(\"Invalid choice\")\n",
        "\n",
        "  except ValueError as e:\n",
        "    print(f\"Error: {e}. Please enter a valid number\")\n",
        "\n",
        "main()"
      ],
      "metadata": {
        "colab": {
          "base_uri": "https://localhost:8080/"
        },
        "id": "gBC99sfrhSNi",
        "outputId": "bd99d2c2-a882-4d43-8b75-aa7aa279b7c8"
      },
      "execution_count": null,
      "outputs": [
        {
          "output_type": "stream",
          "name": "stdout",
          "text": [
            "Enter the numbers separated by space: 2 3 53\n",
            "Choose 1 for sum, 2 for average, 3 for maximum, 4 for minimum: 3\n",
            "Maximum of the numbers: 53.0\n"
          ]
        }
      ]
    },
    {
      "cell_type": "markdown",
      "source": [
        "# Exercise on List Manipulation:"
      ],
      "metadata": {
        "id": "xeN7jFZOmm_6"
      }
    },
    {
      "cell_type": "markdown",
      "source": [
        "## Extract Every Other Element:"
      ],
      "metadata": {
        "id": "yWExi2cZxdOb"
      }
    },
    {
      "cell_type": "code",
      "source": [
        "def extract_every_other(lst):\n",
        "  #  return lst[::2] # list[start:stop:step]\n",
        "\n",
        "  if not isinstance(lst, list):\n",
        "      raise TypeError(\"Input must be a list.\")\n",
        "  result = []\n",
        "  for i in range(0,len(lst),2):\n",
        "    result.append(lst[i])\n",
        "  return result\n",
        "\n",
        "\n",
        "try:\n",
        "    new_lst = extract_every_other([1, 2, 3, 4, 5, 6])\n",
        "    print(new_lst)\n",
        "except (TypeError, ValueError) as e:\n",
        "    print(f\"Error: {e}\")"
      ],
      "metadata": {
        "colab": {
          "base_uri": "https://localhost:8080/"
        },
        "id": "N1-78fvqmn6S",
        "outputId": "7ff34486-c559-4c0a-eaf8-8af2c59a3d54"
      },
      "execution_count": null,
      "outputs": [
        {
          "output_type": "stream",
          "name": "stdout",
          "text": [
            "[1, 3, 5]\n"
          ]
        }
      ]
    },
    {
      "cell_type": "markdown",
      "source": [
        "## Slice a Sublist:"
      ],
      "metadata": {
        "id": "1STOysX-4bzb"
      }
    },
    {
      "cell_type": "code",
      "source": [
        "def get_sublist(lst, start, end):\n",
        "  return lst[start:end]\n",
        "\n",
        "new_lst = get_sublist([1, 2, 3, 4, 5, 6],2, 4)\n",
        "new_lst"
      ],
      "metadata": {
        "colab": {
          "base_uri": "https://localhost:8080/"
        },
        "id": "cYN_YJb_4aVU",
        "outputId": "6c3c508b-e107-40f1-e37b-6d7ca607184d"
      },
      "execution_count": null,
      "outputs": [
        {
          "output_type": "execute_result",
          "data": {
            "text/plain": [
              "[3, 4]"
            ]
          },
          "metadata": {},
          "execution_count": 40
        }
      ]
    },
    {
      "cell_type": "code",
      "source": [
        "def reverse_list(lst):\n",
        "  return lst[::-1]\n",
        "reverse_list([1, 2, 3, 4, 5])"
      ],
      "metadata": {
        "colab": {
          "base_uri": "https://localhost:8080/"
        },
        "id": "u7Y0EufI6pBc",
        "outputId": "9bef939d-822c-47f1-9f44-5d4637c9412b"
      },
      "execution_count": null,
      "outputs": [
        {
          "output_type": "execute_result",
          "data": {
            "text/plain": [
              "[5, 4, 3, 2, 1]"
            ]
          },
          "metadata": {},
          "execution_count": 53
        }
      ]
    },
    {
      "cell_type": "markdown",
      "source": [
        "### Remove the First and Last Elements:"
      ],
      "metadata": {
        "id": "Cq1aqeF69IU1"
      }
    },
    {
      "cell_type": "code",
      "source": [
        "def remove_first_last(lst):\n",
        "  return lst[1:-1:]\n",
        "\n",
        "remove_first_last([1, 2, 3, 4, 5])"
      ],
      "metadata": {
        "colab": {
          "base_uri": "https://localhost:8080/"
        },
        "id": "DPNfXyPN7yXM",
        "outputId": "5f0d6e7c-d5ec-42d3-ec99-d82cebdfbf91"
      },
      "execution_count": null,
      "outputs": [
        {
          "output_type": "execute_result",
          "data": {
            "text/plain": [
              "[2, 3, 4]"
            ]
          },
          "metadata": {},
          "execution_count": 56
        }
      ]
    },
    {
      "cell_type": "markdown",
      "source": [
        "### Get the First n Elements:"
      ],
      "metadata": {
        "id": "GhVU7CP09MfF"
      }
    },
    {
      "cell_type": "code",
      "source": [
        "def get_first_n(lst, n):\n",
        "  return lst[:n]\n",
        "n = int(input(\"Enter n number to return first n element\"))\n",
        "get_first_n([1, 2, 3, 4, 5],n)"
      ],
      "metadata": {
        "colab": {
          "base_uri": "https://localhost:8080/"
        },
        "id": "aOdkrfXJ9Nwk",
        "outputId": "70cff366-0d6b-4b7e-afec-3211e3677a7e"
      },
      "execution_count": null,
      "outputs": [
        {
          "output_type": "execute_result",
          "data": {
            "text/plain": [
              "[1, 2, 3]"
            ]
          },
          "metadata": {},
          "execution_count": 59
        }
      ]
    },
    {
      "cell_type": "markdown",
      "source": [
        "### Extract Elements from the End:"
      ],
      "metadata": {
        "id": "2KjgpBVpJlHV"
      }
    },
    {
      "cell_type": "code",
      "source": [
        "def get_lst_n(lst, n):\n",
        "  return lst[-n:]\n",
        "n = int(input(\"Enter number to return n last element\"))\n",
        "\n",
        "get_lst_n([1, 2, 3, 4, 5],n)"
      ],
      "metadata": {
        "colab": {
          "base_uri": "https://localhost:8080/"
        },
        "id": "rjZ0fDNb-4uk",
        "outputId": "63ef35ae-a4c5-4046-b570-3c31346a85d9"
      },
      "execution_count": null,
      "outputs": [
        {
          "name": "stdout",
          "output_type": "stream",
          "text": [
            "Enter number to return n last element2\n"
          ]
        },
        {
          "output_type": "execute_result",
          "data": {
            "text/plain": [
              "[4, 5]"
            ]
          },
          "metadata": {},
          "execution_count": 67
        }
      ]
    },
    {
      "cell_type": "markdown",
      "source": [
        "### Extract Elements in Reverse Order"
      ],
      "metadata": {
        "id": "kD_JYw7HFRPH"
      }
    },
    {
      "cell_type": "code",
      "source": [
        "def reverse_skip(lst):\n",
        "  return lst[-2::-2]\n",
        "\n",
        "reverse_skip([1, 2, 3, 4, 5, 6])"
      ],
      "metadata": {
        "colab": {
          "base_uri": "https://localhost:8080/"
        },
        "id": "lX26GNXzLwdW",
        "outputId": "d985f47b-1758-4617-977e-da6fdafa99ca"
      },
      "execution_count": null,
      "outputs": [
        {
          "output_type": "execute_result",
          "data": {
            "text/plain": [
              "[5, 3, 1]"
            ]
          },
          "metadata": {},
          "execution_count": 11
        }
      ]
    },
    {
      "cell_type": "markdown",
      "source": [
        "## Exercise on Nested List:"
      ],
      "metadata": {
        "id": "HEPygs4zHckZ"
      }
    },
    {
      "cell_type": "markdown",
      "source": [
        "### Flatten a Nested List:"
      ],
      "metadata": {
        "id": "z7Tz_UWaO6gI"
      }
    },
    {
      "cell_type": "code",
      "source": [
        "def flatten(lst):\n",
        "\n",
        "  flat_list = []\n",
        "\n",
        "  for sublist in lst:\n",
        "    if isinstance(sublist, list):\n",
        "      flat_list.extend(sublist)\n",
        "    else:\n",
        "      flat_list.append(sublist)\n",
        "  return flat_list\n",
        "\n",
        "nested_list = [[1, 2], [3, 4], [5]]\n",
        "print(flatten(nested_list))"
      ],
      "metadata": {
        "colab": {
          "base_uri": "https://localhost:8080/"
        },
        "id": "SosFLh6OHdoS",
        "outputId": "39d76c29-e712-4272-efb6-2a53e1197292"
      },
      "execution_count": null,
      "outputs": [
        {
          "output_type": "stream",
          "name": "stdout",
          "text": [
            "[1, 2, 3, 4, 5]\n"
          ]
        }
      ]
    },
    {
      "cell_type": "code",
      "source": [
        "def access_nested_element(lst, indices):\n",
        "  return lst[indices[0]][indices[1]]\n",
        "\n",
        "access_nested_element( [[1, 2, 3], [4, 5, 6], [7, 8, 9]], [1,2])"
      ],
      "metadata": {
        "colab": {
          "base_uri": "https://localhost:8080/"
        },
        "id": "I5Lf_5iDcoO6",
        "outputId": "f804b00a-39b6-4576-9f20-89fe915b0d92"
      },
      "execution_count": null,
      "outputs": [
        {
          "output_type": "execute_result",
          "data": {
            "text/plain": [
              "6"
            ]
          },
          "metadata": {},
          "execution_count": 19
        }
      ]
    },
    {
      "cell_type": "code",
      "source": [
        "def sum_nested(lst):\n",
        "  total = 0\n",
        "  for item in lst:\n",
        "    if isinstance(item, list):\n",
        "        total += sum_nested(item)\n",
        "    else:\n",
        "        total += item\n",
        "  return total\n",
        "\n",
        "\n",
        "nested_list = [[1, 2], [3, [4, 5]], 6]\n",
        "print(sum_nested(nested_list))\n"
      ],
      "metadata": {
        "colab": {
          "base_uri": "https://localhost:8080/"
        },
        "id": "5OuKg9fad4Ri",
        "outputId": "4be33c89-7266-4b84-9a4b-c51351ca0ff3"
      },
      "execution_count": null,
      "outputs": [
        {
          "output_type": "stream",
          "name": "stdout",
          "text": [
            "21\n"
          ]
        }
      ]
    },
    {
      "cell_type": "code",
      "source": [
        "def remove_element(lst, elm):\n",
        "  for i, sublist in enumerate(lst):\n",
        "    for j, num in enumerate(sublist):\n",
        "      if num == 2:\n",
        "        lst[i].pop(j)\n",
        "\n",
        "  return lst\n",
        "\n",
        "remove_element([[1, 2], [3, 2], [4, 5]], 2)"
      ],
      "metadata": {
        "colab": {
          "base_uri": "https://localhost:8080/"
        },
        "id": "T6a9PCO1hYYz",
        "outputId": "80ae1949-ab05-4d8a-898e-bf418c2199c9"
      },
      "execution_count": null,
      "outputs": [
        {
          "output_type": "execute_result",
          "data": {
            "text/plain": [
              "[[1], [3], [4, 5]]"
            ]
          },
          "metadata": {},
          "execution_count": 30
        }
      ]
    },
    {
      "cell_type": "code",
      "source": [
        "def find_max(lst):\n",
        "    max_value = float('-inf')  # Initialize with negative infinity\n",
        "\n",
        "    for item in lst:\n",
        "        if isinstance(item, list):\n",
        "            max_value = max(max_value, find_max(item))  # Recursively find max\n",
        "        else:\n",
        "            max_value = max(max_value, item)  # Compare numbers\n",
        "\n",
        "    return max_value\n",
        "\n",
        "\n",
        "nested_list = [[1, 2], [3, [4, 5]], 6]\n",
        "find_max(nested_list)\n"
      ],
      "metadata": {
        "colab": {
          "base_uri": "https://localhost:8080/"
        },
        "id": "kxmeHd7kkxBK",
        "outputId": "e3ebb181-aef1-4cf4-b428-5cdbacc282d1"
      },
      "execution_count": null,
      "outputs": [
        {
          "output_type": "execute_result",
          "data": {
            "text/plain": [
              "6"
            ]
          },
          "metadata": {},
          "execution_count": 32
        }
      ]
    },
    {
      "cell_type": "code",
      "source": [
        "def count_cccurrences(lst, elem):\n",
        "  count = 0\n",
        "  for item in lst:\n",
        "    if isinstance(item,list):\n",
        "      for num in item:\n",
        "        if elem == num:\n",
        "          count +=1\n",
        "    else:\n",
        "      if elem == item:\n",
        "        count +=1\n",
        "\n",
        "  return count\n",
        "\n",
        "lst =  [[1, 2], [2, 3], [2, 4]]\n",
        "count_cccurrences(lst,2)"
      ],
      "metadata": {
        "colab": {
          "base_uri": "https://localhost:8080/"
        },
        "id": "p79p1fdImmnM",
        "outputId": "cf2b4fe5-7296-4cc2-9f43-a38b90f17728"
      },
      "execution_count": null,
      "outputs": [
        {
          "output_type": "execute_result",
          "data": {
            "text/plain": [
              "3"
            ]
          },
          "metadata": {},
          "execution_count": 33
        }
      ]
    },
    {
      "cell_type": "code",
      "source": [
        "def deep_flatten(lst):\n",
        "    flat_list = []\n",
        "    for item in lst:\n",
        "        if isinstance(item, list):  # If item is a list, recursively flatten it\n",
        "            flat_list.extend(deep_flatten(item))\n",
        "        else:\n",
        "            flat_list.append(item)  # Append non-list elements directly\n",
        "    return flat_list\n",
        "\n",
        "\n",
        "nested_list = [[[1, 2], [3, 4]], [[5, 6], [7, 8]]]\n",
        "deep_flatten(nested_list)\n"
      ],
      "metadata": {
        "colab": {
          "base_uri": "https://localhost:8080/"
        },
        "id": "RWsnh6L-opG7",
        "outputId": "88e14dd2-dc7d-4762-ab5b-14f6fa045a10"
      },
      "execution_count": null,
      "outputs": [
        {
          "output_type": "execute_result",
          "data": {
            "text/plain": [
              "[1, 2, 3, 4, 5, 6, 7, 8]"
            ]
          },
          "metadata": {},
          "execution_count": 35
        }
      ]
    },
    {
      "cell_type": "code",
      "source": [
        "def deep_flatten(lst):\n",
        "    flat_list = []\n",
        "    for item in lst:\n",
        "        if isinstance(item, list):  # If item is a list, recursively flatten it\n",
        "            flat_list.extend(deep_flatten(item))\n",
        "        else:\n",
        "            flat_list.append(item)  # Append non-list elements directly\n",
        "    return flat_list\n",
        "\n",
        "\n",
        "nested_list =[[1, 2], [3, 4], [5, 6]]\n",
        "new_list = deep_flatten(nested_list)\n",
        "\n",
        "sum(new_list)/len(new_list)\n"
      ],
      "metadata": {
        "colab": {
          "base_uri": "https://localhost:8080/"
        },
        "id": "WOhijj0Xpsoz",
        "outputId": "5d115b52-4754-4c96-b84b-64d889eaf419"
      },
      "execution_count": null,
      "outputs": [
        {
          "output_type": "execute_result",
          "data": {
            "text/plain": [
              "3.5"
            ]
          },
          "metadata": {},
          "execution_count": 37
        }
      ]
    },
    {
      "cell_type": "markdown",
      "source": [
        "# NumPy"
      ],
      "metadata": {
        "id": "Dwk3NvAKqj4M"
      }
    },
    {
      "cell_type": "markdown",
      "source": [
        "## Basic Vector and Matrix Operation with Numpy"
      ],
      "metadata": {
        "id": "mXE86lj2qEoP"
      }
    },
    {
      "cell_type": "markdown",
      "source": [
        "### Problem - 1: Array Creation:"
      ],
      "metadata": {
        "id": "IZM9IQWWqOgd"
      }
    },
    {
      "cell_type": "code",
      "source": [
        "import numpy as np"
      ],
      "metadata": {
        "id": "B6lr7DzJqlgD"
      },
      "execution_count": 1,
      "outputs": []
    },
    {
      "cell_type": "markdown",
      "source": [
        "**Initialize an empty array with size 2X2**"
      ],
      "metadata": {
        "id": "kpM6XdbtqfPN"
      }
    },
    {
      "cell_type": "code",
      "source": [
        "empty_array = np.empty((2,2))\n",
        "empty_array"
      ],
      "metadata": {
        "colab": {
          "base_uri": "https://localhost:8080/"
        },
        "id": "oT9jwPKMqbM-",
        "outputId": "c47c03f5-b7d0-4293-be25-d68fa8ed6f5c"
      },
      "execution_count": 3,
      "outputs": [
        {
          "output_type": "execute_result",
          "data": {
            "text/plain": [
              "array([[2.75677242e-316, 0.00000000e+000],\n",
              "       [1.40761429e+190, 3.03383817e+180]])"
            ]
          },
          "metadata": {},
          "execution_count": 3
        }
      ]
    },
    {
      "cell_type": "markdown",
      "source": [
        "**Initialize an all-one array with size 4X2**"
      ],
      "metadata": {
        "id": "ZY8WQ0l3qsfG"
      }
    },
    {
      "cell_type": "code",
      "source": [
        "one_array = np.ones((4,2))\n",
        "print(one_array)"
      ],
      "metadata": {
        "colab": {
          "base_uri": "https://localhost:8080/"
        },
        "id": "SXKtYxYUqvJF",
        "outputId": "08ffb69b-1321-4711-b26a-570092328229"
      },
      "execution_count": 5,
      "outputs": [
        {
          "output_type": "stream",
          "name": "stdout",
          "text": [
            "[[1. 1.]\n",
            " [1. 1.]\n",
            " [1. 1.]\n",
            " [1. 1.]]\n"
          ]
        }
      ]
    },
    {
      "cell_type": "markdown",
      "source": [
        "**Return a new array of given shape and type, filled with fill value**"
      ],
      "metadata": {
        "id": "5m0RfIOqrDZu"
      }
    },
    {
      "cell_type": "code",
      "source": [
        "fill_value_array = np.full((3,2), 7) #create 3X2 size of matrix with value 7 on each\n",
        "fill_value_array"
      ],
      "metadata": {
        "colab": {
          "base_uri": "https://localhost:8080/"
        },
        "id": "43HArcqqrEQl",
        "outputId": "273d520b-dea7-423e-9e8f-e306dae38c9b"
      },
      "execution_count": 8,
      "outputs": [
        {
          "output_type": "execute_result",
          "data": {
            "text/plain": [
              "array([[7, 7],\n",
              "       [7, 7],\n",
              "       [7, 7]])"
            ]
          },
          "metadata": {},
          "execution_count": 8
        }
      ]
    },
    {
      "cell_type": "markdown",
      "source": [
        "Return a new array of zeros with same shape and type as a given array"
      ],
      "metadata": {
        "id": "57qqLP2qraX2"
      }
    },
    {
      "cell_type": "code",
      "source": [
        "sample_array = np.array([[4, 5], [6, 7]])\n",
        "print(sample_array)\n",
        "print(\"\\nZero Array:\")\n",
        "zero_array = np.zeros_like(sample_array)\n",
        "print(zero_array)"
      ],
      "metadata": {
        "colab": {
          "base_uri": "https://localhost:8080/"
        },
        "id": "rF6ZfzN1rcnu",
        "outputId": "c65f7e8e-102c-4954-a95f-9a9fd49b777d"
      },
      "execution_count": 14,
      "outputs": [
        {
          "output_type": "stream",
          "name": "stdout",
          "text": [
            "[[4 5]\n",
            " [6 7]]\n",
            "\n",
            "Zero Array:\n",
            "[[0 0]\n",
            " [0 0]]\n"
          ]
        }
      ]
    },
    {
      "cell_type": "markdown",
      "source": [
        "**Return a new array of ones with same shape and type as a given array**"
      ],
      "metadata": {
        "id": "0zFXqiR-sRl_"
      }
    },
    {
      "cell_type": "code",
      "source": [
        "ones_like_array = np.ones_like(sample_array)\n",
        "ones_like_array"
      ],
      "metadata": {
        "colab": {
          "base_uri": "https://localhost:8080/"
        },
        "id": "KImIBGUbsTxH",
        "outputId": "50719307-ca4c-45ac-bfc4-6da54fa7d09d"
      },
      "execution_count": 15,
      "outputs": [
        {
          "output_type": "execute_result",
          "data": {
            "text/plain": [
              "array([[1, 1],\n",
              "       [1, 1]])"
            ]
          },
          "metadata": {},
          "execution_count": 15
        }
      ]
    },
    {
      "cell_type": "markdown",
      "source": [
        "**Convert an existing list to a NumPy array**"
      ],
      "metadata": {
        "id": "0EmkdjAAshkG"
      }
    },
    {
      "cell_type": "code",
      "source": [
        "new_list = [1, 2, 3, 4]\n",
        "numpy_array = np.array(new_list)\n",
        "numpy_array"
      ],
      "metadata": {
        "colab": {
          "base_uri": "https://localhost:8080/"
        },
        "id": "vTTfSSOosf4u",
        "outputId": "8aae4106-8bc3-4aa0-bfb3-f37a70d100b9"
      },
      "execution_count": 16,
      "outputs": [
        {
          "output_type": "execute_result",
          "data": {
            "text/plain": [
              "array([1, 2, 3, 4])"
            ]
          },
          "metadata": {},
          "execution_count": 16
        }
      ]
    },
    {
      "cell_type": "markdown",
      "source": [
        "### Problem - 2: Array Manipulation: Numerical Ranges and Array indexing:"
      ],
      "metadata": {
        "id": "C9azhZXZsyDF"
      }
    },
    {
      "cell_type": "markdown",
      "source": [
        "**Create an array with values ranging from 10 to 49**"
      ],
      "metadata": {
        "id": "9pXY6_w2s0Y-"
      }
    },
    {
      "cell_type": "code",
      "source": [
        "array_10_49 = np.arange(10, 50)\n",
        "array_10_49"
      ],
      "metadata": {
        "colab": {
          "base_uri": "https://localhost:8080/"
        },
        "id": "hc8yxlsvty-e",
        "outputId": "f13f672f-0de3-40f9-b1ea-8063b9a2b797"
      },
      "execution_count": 17,
      "outputs": [
        {
          "output_type": "execute_result",
          "data": {
            "text/plain": [
              "array([10, 11, 12, 13, 14, 15, 16, 17, 18, 19, 20, 21, 22, 23, 24, 25, 26,\n",
              "       27, 28, 29, 30, 31, 32, 33, 34, 35, 36, 37, 38, 39, 40, 41, 42, 43,\n",
              "       44, 45, 46, 47, 48, 49])"
            ]
          },
          "metadata": {},
          "execution_count": 17
        }
      ]
    },
    {
      "cell_type": "markdown",
      "source": [
        "# Create a 3X3 matrix with values ranging from 0 to 8."
      ],
      "metadata": {
        "id": "L-mO8msIvlve"
      }
    },
    {
      "cell_type": "code",
      "source": [
        "matrix_3x3 = np.arange(9).reshape(3, 3)\n",
        "matrix_3x3"
      ],
      "metadata": {
        "colab": {
          "base_uri": "https://localhost:8080/"
        },
        "id": "wATTgCU-vmq2",
        "outputId": "385aac83-f49b-49e3-a75e-f6a91b386b2e"
      },
      "execution_count": 22,
      "outputs": [
        {
          "output_type": "execute_result",
          "data": {
            "text/plain": [
              "array([[0, 1, 2],\n",
              "       [3, 4, 5],\n",
              "       [6, 7, 8]])"
            ]
          },
          "metadata": {},
          "execution_count": 22
        }
      ]
    },
    {
      "cell_type": "markdown",
      "source": [
        "Create a 3X3 identity matrix.{Hint:np.eye()}\n",
        "**bold text**"
      ],
      "metadata": {
        "id": "t50bUKzRvm_2"
      }
    },
    {
      "cell_type": "code",
      "source": [
        "identity_matrix = np.eye(3)\n",
        "identity_matrix"
      ],
      "metadata": {
        "colab": {
          "base_uri": "https://localhost:8080/"
        },
        "id": "U90EjAcVv3wv",
        "outputId": "8d4b470b-5268-417e-c508-7694d7139408"
      },
      "execution_count": 25,
      "outputs": [
        {
          "output_type": "execute_result",
          "data": {
            "text/plain": [
              "array([[1., 0., 0.],\n",
              "       [0., 1., 0.],\n",
              "       [0., 0., 1.]])"
            ]
          },
          "metadata": {},
          "execution_count": 25
        }
      ]
    },
    {
      "cell_type": "markdown",
      "source": [
        "Create a random array of size 30 and find the mean of the array.\n",
        "{Hint:check for np.random.random() and array.mean() function} **bold text**"
      ],
      "metadata": {
        "id": "ybd-Ppv3vqy3"
      }
    },
    {
      "cell_type": "code",
      "source": [
        "random_array = np.random.random(30)\n",
        "random_array.mean()"
      ],
      "metadata": {
        "colab": {
          "base_uri": "https://localhost:8080/"
        },
        "id": "hEEZarPbv4Su",
        "outputId": "e5734f8f-2ea2-4391-c654-9b11de74fa45"
      },
      "execution_count": 32,
      "outputs": [
        {
          "output_type": "execute_result",
          "data": {
            "text/plain": [
              "0.4519465905559054"
            ]
          },
          "metadata": {},
          "execution_count": 32
        }
      ]
    },
    {
      "cell_type": "markdown",
      "source": [
        "**Create a 10X10 array with random values and find the minimum and maximum values.**"
      ],
      "metadata": {
        "id": "37S7sDVivsiW"
      }
    },
    {
      "cell_type": "code",
      "source": [
        "random_matrix  = np.random.random((10,10))\n",
        "# print(random_matrix)\n",
        "print(f\"Minimum value: {random_matrix.min()}\")\n",
        "print(f\"Maximum value: {random_matrix.max()}\")"
      ],
      "metadata": {
        "colab": {
          "base_uri": "https://localhost:8080/"
        },
        "id": "5rTN3WD_v43f",
        "outputId": "26adf033-a753-4da2-e626-c53b452e95f3"
      },
      "execution_count": 37,
      "outputs": [
        {
          "output_type": "stream",
          "name": "stdout",
          "text": [
            "Minimum value: 0.008479956977620495\n",
            "Maximum value: 0.9967355890896296\n"
          ]
        }
      ]
    },
    {
      "cell_type": "markdown",
      "source": [
        "**Create a zero array of size 10 and replace 5th element with 1.**"
      ],
      "metadata": {
        "id": "ktbTpKsRvtmm"
      }
    },
    {
      "cell_type": "code",
      "source": [
        "zero_array  = np.zeros(10)\n",
        "zero_array[4] = 1\n",
        "zero_array"
      ],
      "metadata": {
        "colab": {
          "base_uri": "https://localhost:8080/"
        },
        "id": "qIJ0cq6Rv5TX",
        "outputId": "d861a963-ebec-49d6-91b7-dc159e90e56b"
      },
      "execution_count": 41,
      "outputs": [
        {
          "output_type": "execute_result",
          "data": {
            "text/plain": [
              "array([0., 0., 0., 0., 1., 0., 0., 0., 0., 0.])"
            ]
          },
          "metadata": {},
          "execution_count": 41
        }
      ]
    },
    {
      "cell_type": "markdown",
      "source": [
        "**Reverse an array arr = [1,2,0,0,4,0].**"
      ],
      "metadata": {
        "id": "i3YLhFoYvvze"
      }
    },
    {
      "cell_type": "code",
      "source": [
        "arr = np.array([1,2,0,0,4,0])\n",
        "reversed_arr = arr[::-1]\n",
        "reversed_arr"
      ],
      "metadata": {
        "colab": {
          "base_uri": "https://localhost:8080/"
        },
        "id": "5Az5i-xcv52e",
        "outputId": "2c4fcc15-415f-4e87-9fb8-e6affb6c4d28"
      },
      "execution_count": 42,
      "outputs": [
        {
          "output_type": "execute_result",
          "data": {
            "text/plain": [
              "array([0, 4, 0, 0, 2, 1])"
            ]
          },
          "metadata": {},
          "execution_count": 42
        }
      ]
    },
    {
      "cell_type": "markdown",
      "source": [
        "**Create a 2d array with 1 on border and 0 inside.**"
      ],
      "metadata": {
        "id": "d5YG14hjvx2m"
      }
    },
    {
      "cell_type": "code",
      "source": [
        "boarder_array = np.ones((5,5))\n",
        "boarder_array[1:-1, 1:-1] = 0\n",
        "boarder_array"
      ],
      "metadata": {
        "colab": {
          "base_uri": "https://localhost:8080/"
        },
        "id": "Fc5EwCfSv6e3",
        "outputId": "006eb4e6-f5f7-4d23-eb42-92def3907715"
      },
      "execution_count": 64,
      "outputs": [
        {
          "output_type": "execute_result",
          "data": {
            "text/plain": [
              "array([[1., 1., 1., 1., 1.],\n",
              "       [1., 0., 0., 0., 1.],\n",
              "       [1., 0., 0., 0., 1.],\n",
              "       [1., 0., 0., 0., 1.],\n",
              "       [1., 1., 1., 1., 1.]])"
            ]
          },
          "metadata": {},
          "execution_count": 64
        }
      ]
    },
    {
      "cell_type": "markdown",
      "source": [
        "**Create a 8X8 matrix and fill it with a checkerboard pattern.**"
      ],
      "metadata": {
        "id": "4PLK7XDkv0cu"
      }
    },
    {
      "cell_type": "code",
      "source": [
        "checkerboard = np.zeros((8, 8), dtype=int)\n",
        "checkerboard[1::2, ::2] = 1\n",
        "checkerboard[::2, 1::2] = 1\n",
        "\n",
        "checkerboard"
      ],
      "metadata": {
        "colab": {
          "base_uri": "https://localhost:8080/"
        },
        "id": "EAYStp-Wv69G",
        "outputId": "e3364ad5-7e53-42dc-d91c-8fe537a8880c"
      },
      "execution_count": 65,
      "outputs": [
        {
          "output_type": "execute_result",
          "data": {
            "text/plain": [
              "array([[0, 1, 0, 1, 0, 1, 0, 1],\n",
              "       [1, 0, 1, 0, 1, 0, 1, 0],\n",
              "       [0, 1, 0, 1, 0, 1, 0, 1],\n",
              "       [1, 0, 1, 0, 1, 0, 1, 0],\n",
              "       [0, 1, 0, 1, 0, 1, 0, 1],\n",
              "       [1, 0, 1, 0, 1, 0, 1, 0],\n",
              "       [0, 1, 0, 1, 0, 1, 0, 1],\n",
              "       [1, 0, 1, 0, 1, 0, 1, 0]])"
            ]
          },
          "metadata": {},
          "execution_count": 65
        }
      ]
    },
    {
      "cell_type": "markdown",
      "source": [
        "### Problem - 3: Array Operations:\n"
      ],
      "metadata": {
        "id": "SQ3UyuI_1s3u"
      }
    },
    {
      "cell_type": "code",
      "source": [
        "x = np.array([[1, 2], [3, 5]])\n",
        "y = np.array([[5, 6], [7, 8]])\n",
        "v = np.array([9, 10])\n",
        "w = np.array([11, 12])"
      ],
      "metadata": {
        "id": "q3hNuao-1vNX"
      },
      "execution_count": 68,
      "outputs": []
    },
    {
      "cell_type": "code",
      "source": [
        "x+y"
      ],
      "metadata": {
        "colab": {
          "base_uri": "https://localhost:8080/"
        },
        "id": "zU4L4SaN3O-3",
        "outputId": "efb4dd78-fccc-4877-a4d2-f5c2a0fa414f"
      },
      "execution_count": 69,
      "outputs": [
        {
          "output_type": "execute_result",
          "data": {
            "text/plain": [
              "array([[ 6,  8],\n",
              "       [10, 13]])"
            ]
          },
          "metadata": {},
          "execution_count": 69
        }
      ]
    },
    {
      "cell_type": "code",
      "source": [
        "x-y"
      ],
      "metadata": {
        "colab": {
          "base_uri": "https://localhost:8080/"
        },
        "id": "U5sm-wa43V4m",
        "outputId": "c32af0d4-6505-4b7c-fb19-b59b7d8b93a7"
      },
      "execution_count": 70,
      "outputs": [
        {
          "output_type": "execute_result",
          "data": {
            "text/plain": [
              "array([[-4, -4],\n",
              "       [-4, -3]])"
            ]
          },
          "metadata": {},
          "execution_count": 70
        }
      ]
    },
    {
      "cell_type": "code",
      "source": [
        "x*3"
      ],
      "metadata": {
        "colab": {
          "base_uri": "https://localhost:8080/"
        },
        "id": "D0HLcQOG3Yyu",
        "outputId": "56811925-87b7-484b-dfa4-780d6de65002"
      },
      "execution_count": 71,
      "outputs": [
        {
          "output_type": "execute_result",
          "data": {
            "text/plain": [
              "array([[ 3,  6],\n",
              "       [ 9, 15]])"
            ]
          },
          "metadata": {},
          "execution_count": 71
        }
      ]
    },
    {
      "cell_type": "code",
      "source": [
        "np.square(x)"
      ],
      "metadata": {
        "colab": {
          "base_uri": "https://localhost:8080/"
        },
        "id": "D6CMTyfX3diu",
        "outputId": "8cae5399-ced9-4556-8658-f73e88199fa4"
      },
      "execution_count": 74,
      "outputs": [
        {
          "output_type": "execute_result",
          "data": {
            "text/plain": [
              "array([[ 1,  4],\n",
              "       [ 9, 25]])"
            ]
          },
          "metadata": {},
          "execution_count": 74
        }
      ]
    },
    {
      "cell_type": "code",
      "source": [
        "dot_vw = np.dot(v, w)  # Dot product of v and w\n",
        "dot_xv = np.dot(x, v)  # Dot product of x and v\n",
        "dot_xy = np.dot(x, y)  # Dot product of x and y\n",
        "\n",
        "print(\"\\nDot product of v and w:\", dot_vw)\n",
        "print(\"\\nDot product of x and v:\\n\", dot_xv)\n",
        "print(\"\\nDot product of x and y:\\n\", dot_xy)"
      ],
      "metadata": {
        "colab": {
          "base_uri": "https://localhost:8080/"
        },
        "id": "ysiUVQYL3y8_",
        "outputId": "706a2364-2c9c-4d9a-e246-7e7586f1df96"
      },
      "execution_count": 76,
      "outputs": [
        {
          "output_type": "stream",
          "name": "stdout",
          "text": [
            "\n",
            "Dot product of v and w: 219\n",
            "\n",
            "Dot product of x and v:\n",
            " [29 77]\n",
            "\n",
            "Dot product of x and y:\n",
            " [[19 22]\n",
            " [50 58]]\n"
          ]
        }
      ]
    },
    {
      "cell_type": "code",
      "source": [
        "print(x)\n",
        "print(\"\\n\")\n",
        "print(y)"
      ],
      "metadata": {
        "colab": {
          "base_uri": "https://localhost:8080/"
        },
        "id": "PXrh6hZ84Eq_",
        "outputId": "6e04df7d-523b-4b2e-b880-7bc1c93cdfbc"
      },
      "execution_count": 79,
      "outputs": [
        {
          "output_type": "stream",
          "name": "stdout",
          "text": [
            "[[1 2]\n",
            " [3 5]]\n",
            "\n",
            "\n",
            "[[5 6]\n",
            " [7 8]]\n"
          ]
        }
      ]
    },
    {
      "cell_type": "code",
      "source": [
        "# 6. Concatenate x and y along rows\n",
        "concat_xy = np.concatenate((x, y), axis=0)\n",
        "print(\"\\nConcatenation of x and y along rows:\\n\", concat_xy)\n",
        "\n",
        "# Concatenate v and w along columns\n",
        "concat_vw = np.vstack((v, w))\n",
        "print(\"\\nConcatenation of v and w along columns:\\n\", concat_vw)\n"
      ],
      "metadata": {
        "colab": {
          "base_uri": "https://localhost:8080/"
        },
        "id": "UwZQWsey4BjX",
        "outputId": "63147d50-85fb-45e1-c0dd-f0792553c8b1"
      },
      "execution_count": 85,
      "outputs": [
        {
          "output_type": "stream",
          "name": "stdout",
          "text": [
            "\n",
            "Concatenation of x and y along rows:\n",
            " [[1 2]\n",
            " [3 5]\n",
            " [5 6]\n",
            " [7 8]]\n",
            "\n",
            "Concatenation of v and w along columns:\n",
            " [[ 9 10]\n",
            " [11 12]]\n"
          ]
        }
      ]
    },
    {
      "cell_type": "code",
      "source": [
        "# 7. Concatenating x and v\n",
        "try:\n",
        "    concat_xv = np.concatenate((x, v), axis=0)\n",
        "    print(\"\\nConcatenation of x and v:\\n\", concat_xv)\n",
        "except ValueError as e:\n",
        "    print(\"\\nError while concatenating x and v:\", e)"
      ],
      "metadata": {
        "colab": {
          "base_uri": "https://localhost:8080/"
        },
        "id": "h0zh12DD4ntH",
        "outputId": "228306d4-4404-4bd4-a3d7-eb2b4a8a10a1"
      },
      "execution_count": 86,
      "outputs": [
        {
          "output_type": "stream",
          "name": "stdout",
          "text": [
            "\n",
            "Error while concatenating x and v: all the input arrays must have same number of dimensions, but the array at index 0 has 2 dimension(s) and the array at index 1 has 1 dimension(s)\n"
          ]
        }
      ]
    },
    {
      "cell_type": "markdown",
      "source": [],
      "metadata": {
        "id": "736OrBPY6EnP"
      }
    },
    {
      "cell_type": "markdown",
      "source": [
        "### Problem - 4: Matrix Operations:"
      ],
      "metadata": {
        "id": "O3XahNUu41aY"
      }
    },
    {
      "cell_type": "markdown",
      "source": [
        "1. Prove\n",
        "𝐴\n",
        "⋅\n",
        "𝐴\n",
        "−\n",
        "1\n",
        "=\n",
        "𝐼\n",
        "A⋅A\n",
        "−1\n",
        " =I"
      ],
      "metadata": {
        "id": "nHOfD3il6Fio"
      }
    },
    {
      "cell_type": "code",
      "source": [
        "A = np.array([[3, 4], [7, 8]])\n",
        "\n",
        "# Compute the inverse of A\n",
        "A_inv = np.linalg.inv(A)\n",
        "\n",
        "# Multiply A by its inverse\n",
        "I = np.dot(A, A_inv)\n",
        "\n",
        "# Print results\n",
        "print(\"A * A^-1:\\n\", I)\n",
        "\n",
        "# Check if it's an identity matrix\n",
        "print(\"\\nIs A * A^-1 approximately equal to I? \", np.allclose(I, np.eye(2)))\n"
      ],
      "metadata": {
        "colab": {
          "base_uri": "https://localhost:8080/"
        },
        "id": "3TnDMzxA426Y",
        "outputId": "f3941e58-160b-471d-c7bb-2764be3d8b82"
      },
      "execution_count": 87,
      "outputs": [
        {
          "output_type": "stream",
          "name": "stdout",
          "text": [
            "A * A^-1:\n",
            " [[1.00000000e+00 0.00000000e+00]\n",
            " [1.77635684e-15 1.00000000e+00]]\n",
            "\n",
            "Is A * A^-1 approximately equal to I?  True\n"
          ]
        }
      ]
    },
    {
      "cell_type": "markdown",
      "source": [
        "**To prove matrix multiplication is not commutative, we compute:**\n",
        "\n",
        "𝐴\n",
        "𝐵\n",
        "AB (A multiplied by B)\n",
        "𝐵\n",
        "𝐴\n",
        "BA (B multiplied by A)\n",
        "Check if\n",
        "𝐴\n",
        "𝐵\n",
        "=\n",
        "𝐵\n",
        "𝐴\n",
        "AB=BA\n"
      ],
      "metadata": {
        "id": "WyyxLkg_5tjI"
      }
    },
    {
      "cell_type": "code",
      "source": [
        "B = np.array([[5, 3], [2, 1]])\n",
        "\n",
        "# Compute AB and BA\n",
        "AB = np.dot(A, B)\n",
        "BA = np.dot(B, A)\n",
        "\n",
        "# Print results\n",
        "print(\"\\nAB:\\n\", AB)\n",
        "print(\"\\nBA:\\n\", BA)\n",
        "\n",
        "# Check if they are equal\n",
        "print(\"\\nIs AB equal to BA? \", np.array_equal(AB, BA))\n"
      ],
      "metadata": {
        "colab": {
          "base_uri": "https://localhost:8080/"
        },
        "id": "k7AiSckm5vKA",
        "outputId": "9e433d74-75f6-493b-8f60-f7d76266d184"
      },
      "execution_count": 88,
      "outputs": [
        {
          "output_type": "stream",
          "name": "stdout",
          "text": [
            "\n",
            "AB:\n",
            " [[23 13]\n",
            " [51 29]]\n",
            "\n",
            "BA:\n",
            " [[36 44]\n",
            " [13 16]]\n",
            "\n",
            "Is AB equal to BA?  False\n"
          ]
        }
      ]
    },
    {
      "cell_type": "markdown",
      "source": [
        "Prove\n",
        "(\n",
        "𝐴\n",
        "𝐵\n",
        ")\n",
        "𝑇\n",
        "=\n",
        "𝐵\n",
        "𝑇\n",
        "𝐴\n",
        "𝑇\n",
        "(AB)\n",
        "T\n",
        " =B\n",
        "T\n",
        " A\n",
        "T\n",
        "\n",
        "The transpose of a product of two matrices follows the rule:\n",
        "\n",
        "(\n",
        "𝐴\n",
        "𝐵\n",
        ")\n",
        "𝑇\n",
        "=\n",
        "𝐵\n",
        "𝑇\n",
        "𝐴\n",
        "𝑇\n",
        "(AB)\n",
        "T\n",
        " =B\n",
        "T\n",
        " A\n",
        "T"
      ],
      "metadata": {
        "id": "qWSvGbVZ6Vvo"
      }
    },
    {
      "cell_type": "code",
      "source": [
        "# Compute (AB)^T\n",
        "AB_T = np.transpose(AB)\n",
        "\n",
        "# Compute B^T and A^T\n",
        "B_T = np.transpose(B)\n",
        "A_T = np.transpose(A)\n",
        "\n",
        "# Compute B^T A^T\n",
        "BT_AT = np.dot(B_T, A_T)\n",
        "\n",
        "# Print results\n",
        "print(\"\\n(AB)^T:\\n\", AB_T)\n",
        "print(\"\\nB^T A^T:\\n\", BT_AT)\n",
        "\n",
        "# Check if they are equal\n",
        "print(\"\\nIs (AB)^T equal to B^T A^T? \", np.array_equal(AB_T, BT_AT))\n"
      ],
      "metadata": {
        "colab": {
          "base_uri": "https://localhost:8080/"
        },
        "id": "yc55VZbt5zb4",
        "outputId": "412b6436-a618-41e9-d245-1029b0d36ff7"
      },
      "execution_count": 89,
      "outputs": [
        {
          "output_type": "stream",
          "name": "stdout",
          "text": [
            "\n",
            "(AB)^T:\n",
            " [[23 51]\n",
            " [13 29]]\n",
            "\n",
            "B^T A^T:\n",
            " [[23 51]\n",
            " [13 29]]\n",
            "\n",
            "Is (AB)^T equal to B^T A^T?  True\n"
          ]
        }
      ]
    },
    {
      "cell_type": "markdown",
      "source": [
        "Solving the Linear System Using the Inverse Method\n"
      ],
      "metadata": {
        "id": "8pTMkNsc6bzo"
      }
    },
    {
      "cell_type": "code",
      "source": [
        "# Define matrix A (coefficients)\n",
        "A = np.array([[2, -3, 1], [1, -1, 2], [3, 1, -1]])\n",
        "\n",
        "# Define matrix B (constants)\n",
        "B = np.array([-1, -3, 9])\n",
        "\n",
        "# Solve for X using inverse\n",
        "A_inv = np.linalg.inv(A)  # Compute inverse of A\n",
        "X = np.dot(A_inv, B)  # Compute X\n",
        "\n",
        "# Print results\n",
        "print(\"\\nSolution for x, y, z:\\n\", X)\n"
      ],
      "metadata": {
        "colab": {
          "base_uri": "https://localhost:8080/"
        },
        "id": "ivWtCooW52yQ",
        "outputId": "b2e409fd-85e8-4086-f566-6f3d7a0e063c"
      },
      "execution_count": 90,
      "outputs": [
        {
          "output_type": "stream",
          "name": "stdout",
          "text": [
            "\n",
            "Solution for x, y, z:\n",
            " [ 2.  1. -2.]\n"
          ]
        }
      ]
    },
    {
      "cell_type": "markdown",
      "source": [
        "Solving Using np.linalg.solve"
      ],
      "metadata": {
        "id": "V1ZQSrFO6grC"
      }
    },
    {
      "cell_type": "code",
      "source": [
        "# Solve directly using np.linalg.solve\n",
        "X_solve = np.linalg.solve(A, B)\n",
        "\n",
        "# Print results\n",
        "print(\"\\nSolution using np.linalg.solve:\\n\", X_solve)\n"
      ],
      "metadata": {
        "colab": {
          "base_uri": "https://localhost:8080/"
        },
        "id": "7zpH2ZwD5424",
        "outputId": "d33ff952-fbf1-4550-ded9-7b5c81020eff"
      },
      "execution_count": 91,
      "outputs": [
        {
          "output_type": "stream",
          "name": "stdout",
          "text": [
            "\n",
            "Solution using np.linalg.solve:\n",
            " [ 2.  1. -2.]\n"
          ]
        }
      ]
    }
  ]
}